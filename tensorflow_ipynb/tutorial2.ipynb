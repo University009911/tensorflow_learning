{
 "cells": [
  {
   "cell_type": "code",
   "execution_count": 2,
   "metadata": {},
   "outputs": [
    {
     "name": "stdout",
     "output_type": "stream",
     "text": [
      "2.4.1\n"
     ]
    }
   ],
   "source": [
    "import os\n",
    "import time\n",
    "import tensorflow as tf\n",
    "print(tf.__version__)    #2.4.1\n",
    "\n",
    "def pp():\n",
    "    return print(\"####################################\")"
   ]
  },
  {
   "cell_type": "code",
   "execution_count": 3,
   "metadata": {},
   "outputs": [
    {
     "name": "stdout",
     "output_type": "stream",
     "text": [
      "tf.Tensor(\n",
      "[[1 2 3]\n",
      " [4 5 6]], shape=(2, 3), dtype=int32)\n",
      "tf.Tensor(\n",
      "[[1. 1. 1.]\n",
      " [1. 1. 1.]\n",
      " [1. 1. 1.]], shape=(3, 3), dtype=float32)\n",
      "tf.Tensor(\n",
      "[[0. 0. 0.]\n",
      " [0. 0. 0.]], shape=(2, 3), dtype=float32)\n",
      "tf.Tensor(\n",
      "[[ 1.6660932  -0.9139729  -1.5001726 ]\n",
      " [ 1.7920866  -0.87376153 -1.9098576 ]\n",
      " [-0.6631499  -0.9112967  -0.55025315]], shape=(3, 3), dtype=float32)\n",
      "tf.Tensor([[0.6014701 0.8188925 0.7948538]], shape=(1, 3), dtype=float32)\n"
     ]
    }
   ],
   "source": [
    "#Initialization of Tensor\n",
    "\n",
    "X = tf.constant(4,shape=(1,1))\n",
    "X = tf.constant([[1,2,3],[4,5,6]])   #tf.Tensor([[1 2 3] [4 5 6]], shape=(2, 3), dtype=int32)\n",
    "print (X)\n",
    "\n",
    "M = tf.ones((3,3))   #全是1\n",
    "print (M)\n",
    "\n",
    "\"\"\"\n",
    "tf.Tensor(\n",
    "[[1. 1. 1.]\n",
    " [1. 1. 1.]\n",
    " [1. 1. 1.]], shape=(3, 3), dtype=float32)\n",
    "\"\"\"\n",
    "\n",
    "Y = tf.zeros((2,3))    #全是0\n",
    "print (Y)\n",
    "\"\"\"\n",
    "tf.Tensor(\n",
    "[[0. 0. 0.]\n",
    " [0. 0. 0.]], shape=(2, 3), dtype=float32)\n",
    "\"\"\"\n",
    "A = tf.random.normal((3,3),mean=0, stddev=1)\n",
    "print (A)\n",
    "\n",
    "B = tf.random.uniform((1,3),minval=0,maxval=1)\n",
    "print (B)\n",
    "#在tf.random.uniform函数中，minval和maxval是两个参数，用于指定生成的随机数的最小值和最大值。具体来说，函数将生成一个形状为(1, 3)的张量，其中每个元素都是在minval和maxval之间随机生成的浮点数。\n",
    "#因此，在这个例子中，minval=0和maxval=1意味着生成的随机数将在 0 和 1 之间。如果没有指定minval和maxval，则默认值为 0 和 1。"
   ]
  },
  {
   "cell_type": "code",
   "execution_count": 21,
   "metadata": {},
   "outputs": [
    {
     "name": "stdout",
     "output_type": "stream",
     "text": [
      "tf.Tensor([0 1 1 2 3 1 2 3], shape=(8,), dtype=int32)\n",
      "tf.Tensor([1 1 2 3 1 2 3], shape=(7,), dtype=int32)\n",
      "tf.Tensor([1 1], shape=(2,), dtype=int32)\n",
      "tf.Tensor([0 1 3 2], shape=(4,), dtype=int32)\n",
      "tf.Tensor([3 2 1 3 2 1 1 0], shape=(8,), dtype=int32)\n",
      "tf.Tensor([0 2], shape=(2,), dtype=int32)\n"
     ]
    }
   ],
   "source": [
    "# Indexing\n",
    "x = tf.constant([0, 1, 1, 2, 3, 1, 2, 3])\n",
    "print(x[:])\n",
    "print(x[1:])\n",
    "print(x[1:3])\n",
    "print(x[::2])\n",
    "print(x[::-1])\n",
    "\n",
    "indices = tf.constant([0, 3])\n",
    "x_indices = tf.gather(x, indices)\n",
    "print (x_indices)"
   ]
  },
  {
   "cell_type": "code",
   "execution_count": 22,
   "metadata": {},
   "outputs": [
    {
     "name": "stdout",
     "output_type": "stream",
     "text": [
      "tf.Tensor([0 1 2 3 4 5 6 7 8], shape=(9,), dtype=int32)\n",
      "####################################\n",
      "tf.Tensor(\n",
      "[[0 1 2]\n",
      " [3 4 5]\n",
      " [6 7 8]], shape=(3, 3), dtype=int32)\n",
      "####################################\n",
      "tf.Tensor(\n",
      "[[0 3 6]\n",
      " [1 4 7]\n",
      " [2 5 8]], shape=(3, 3), dtype=int32)\n"
     ]
    }
   ],
   "source": [
    "# reshaping\n",
    "# Reshaping\n",
    "x = tf.range(9)\n",
    "print (x)\n",
    "pp()\n",
    "x = tf.reshape(x, (3, 3))\n",
    "print (x)\n",
    "pp()\n",
    "x = tf.transpose(x, perm=[1, 0])\n",
    "print (x)"
   ]
  }
 ],
 "metadata": {
  "kernelspec": {
   "display_name": "py37tf24",
   "language": "python",
   "name": "python3"
  },
  "language_info": {
   "codemirror_mode": {
    "name": "ipython",
    "version": 3
   },
   "file_extension": ".py",
   "mimetype": "text/x-python",
   "name": "python",
   "nbconvert_exporter": "python",
   "pygments_lexer": "ipython3",
   "version": "3.7.16"
  },
  "orig_nbformat": 4
 },
 "nbformat": 4,
 "nbformat_minor": 2
}
