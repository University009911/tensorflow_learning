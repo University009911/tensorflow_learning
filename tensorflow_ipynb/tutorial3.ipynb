{
 "cells": [
  {
   "cell_type": "code",
   "execution_count": 7,
   "metadata": {},
   "outputs": [
    {
     "name": "stdout",
     "output_type": "stream",
     "text": [
      "2.4.1\n"
     ]
    }
   ],
   "source": [
    "import os\n",
    "\n",
    "os.environ[\"TF_CPP_MIN_LOG_LEVEL\"] = \"2\"\n",
    "\n",
    "import tensorflow as tf\n",
    "from tensorflow import keras\n",
    "from tensorflow.keras import layers\n",
    "from tensorflow.keras.datasets import mnist\n",
    "print(tf.__version__)    #2.4.1\n",
    "\n",
    "def pp():\n",
    "    return print(\"####################################\")"
   ]
  },
  {
   "cell_type": "code",
   "execution_count": null,
   "metadata": {},
   "outputs": [],
   "source": [
    "#physical_devices = tf.config.list_physical_devices(\"GPU\")\n",
    "#tf.config.experimental.set_memory_growth(physical_devices[0], True)\n",
    "\n",
    "(x_train, y_train), (x_test, y_test) = mnist.load_data()\n",
    "#print (x_train[5])\n",
    "print(len(x_train[5]))\n",
    "pp()\n",
    "x_train = x_train.reshape(-1, 28 * 28).astype(\"float32\") / 255.0     #将二维数组转化成一维数组\n",
    "x_test = x_test.reshape(-1, 28 * 28).astype(\"float32\") / 255.0\n",
    "print(x_train.shape)  #(60000, 784)\n",
    "print(x_train[5])   #输出第五个element\n",
    "print(x_train[5].shape)  #输出第一个element的维度  (784,)\n"
   ]
  },
  {
   "cell_type": "code",
   "execution_count": 22,
   "metadata": {},
   "outputs": [
    {
     "name": "stdout",
     "output_type": "stream",
     "text": [
      "2\n",
      "60000\n",
      "####################################\n",
      "(60000, 28, 28, 1)\n",
      "(28, 28, 1)\n",
      "####################################\n",
      "(60000,)\n",
      "tf.Tensor(5, shape=(), dtype=int64)\n",
      "()\n"
     ]
    }
   ],
   "source": [
    "(train_image, train_labels),_ = tf.keras.datasets.mnist.load_data()\n",
    "print (train_labels[5])\n",
    "print (len(train_labels))\n",
    "# 对图片进行预处理\n",
    "train_image = tf.expand_dims(train_image,-1) # 扩增维度\n",
    "#print(train_image.shape)  #(60000, 28, 28, 1)\n",
    "#print(train_image[0])    #输出第一个element\n",
    "pp()\n",
    "\n",
    "\n",
    "# 计算梯度必须使用浮点型\n",
    "# 归一化\n",
    "train_image = tf.cast(train_image/255, tf.float32)\n",
    "print(train_image.shape)  #(60000, 28, 28, 1)\n",
    "#print(train_image[0])    #输出第一个element\n",
    "print(train_image[0].shape)    #输出第一个element的维度   (28, 28, 1)\n",
    "\n",
    "pp()\n",
    "\n",
    "# 对label进行处理\n",
    "train_labels = tf.cast(train_labels, tf.int64)\n",
    "\n",
    "print(train_labels.shape)  #(60000,)\n",
    "print(train_labels[0])    #输出第一个element  tf.Tensor(5, shape=(), dtype=int64)\n",
    "print(train_labels[0].shape)    #输出第一个element的维度 ()"
   ]
  },
  {
   "cell_type": "code",
   "execution_count": null,
   "metadata": {},
   "outputs": [],
   "source": [
    "import tensorflow as tf\n",
    "(train_image, train_labels),_ = tf.keras.datasets.mnist.load_data()\n",
    "\n",
    "# 对图片进行预处理\n",
    "train_image = tf.expand_dims(train_image,-1) # 扩增维度\n",
    "\n",
    "# 计算梯度必须使用浮点型\n",
    "# 归一化\n",
    "train_image = tf.cast(train_image/255, tf.float32)\n",
    "\n",
    "# 对label进行处理\n",
    "train_labels = tf.cast(train_labels, tf.int64)\n",
    "\n",
    "dataset = tf.data.Dataset.from_tensor_slices((train_image, train_labels))\n",
    "\n",
    "# 连续、批次\n",
    "dataset = dataset.shuffle(10000).batch(32)\n",
    "\n",
    "model = tf.keras.Sequential([\n",
    "    tf.keras.layers.Conv2D(16,[3,3],activation=\"relu\",input_shape=(None,None,1)),\n",
    "    tf.keras.layers.Conv2D(32,[3,3],activation=\"relu\"),\n",
    "    tf.keras.layers.GlobalMaxPool2D(),\n",
    "    tf.keras.layers.Dense(10)\n",
    "])\n",
    "\n",
    "optimizer = tf.keras.optimizers.Adam()   # 优化器，默认Adam参数\n",
    "\n",
    "loss_func = tf.keras.losses.SparseCategoricalCrossentropy(from_logits=True)\n",
    "\n",
    "train_loss = tf.keras.metrics.Mean(\"train_loss\")\n",
    "train_accuracy = tf.keras.metrics.SparseCategoricalAccuracy('train_accuracy')\n",
    "\n",
    "def train_step(model,images,labels):\n",
    "    with tf.GradientTape() as t:\n",
    "        pred = model(images)\n",
    "        loss_step = loss_func(labels,pred)\n",
    "    grads = t.gradient(loss_step, model.trainable_variables)\n",
    "    optimizer.apply_gradients(zip(grads,model.trainable_variables))\n",
    "    train_loss(loss_step)\n",
    "    train_accuracy(labels,pred)\n",
    "\n",
    "def train():\n",
    "    for epoch in range(10):     # 训练10个epoch\n",
    "        for (batch,(images,labels)) in enumerate(dataset):\n",
    "            train_step(model,images,labels)\n",
    "        print(\"Epoch{} loss is {},accuracy is {}\".format(epoch,\n",
    "                                                         train_loss.result(),\n",
    "                                                         train_accuracy.result()))\n",
    "        # 对于下一步进行重置\n",
    "        train_loss.reset_states()\n",
    "        train_accuracy.reset_states()\n",
    "\n",
    "train()        "
   ]
  },
  {
   "cell_type": "code",
   "execution_count": null,
   "metadata": {},
   "outputs": [],
   "source": [
    "import os\n",
    "import sys\n",
    "\n",
    "os.environ[\"TF_CPP_MIN_LOG_LEVEL\"] = \"2\"\n",
    "\n",
    "import tensorflow as tf\n",
    "from tensorflow import keras\n",
    "from tensorflow.keras import layers\n",
    "from tensorflow.keras.datasets import mnist\n",
    "\n",
    "\n",
    "def pp():\n",
    "    return print(\"####################################\") \n",
    "#physical_devices = tf.config.list_physical_devices(\"GPU\")\n",
    "#tf.config.experimental.set_memory_growth(physical_devices[0], True)\n",
    "\n",
    "(x_train, y_train), (x_test, y_test) = mnist.load_data()\n",
    "# x_train里面每一个element都是二维数组\n",
    "print (x_train[45])\n",
    "print(len(x_train[45]))\n",
    "pp()\n",
    "x_train = x_train.reshape(-1, 28 * 28).astype(\"float32\") / 255.0\n",
    "x_test = x_test.reshape(-1, 28 * 28).astype(\"float32\") / 255.0\n",
    "\n",
    "print(x_train.shape)  #(60000, 28, 28, 1)\n",
    "#print(x_train[0])    #输出第一个element\n",
    "pp()\n",
    "print(x_train[45])    #输出第一个element\n",
    "print(x_train[45].shape)    #输出第一个element的维度"
   ]
  },
  {
   "cell_type": "code",
   "execution_count": 24,
   "metadata": {},
   "outputs": [
    {
     "name": "stdout",
     "output_type": "stream",
     "text": [
      "Hello, Alice! You are 25 years old.\n"
     ]
    }
   ],
   "source": [
    "name = \"Alice\"\n",
    "age = 25\n",
    "\n",
    "print(f\"Hello, {name}! You are {age} years old.\")"
   ]
  },
  {
   "cell_type": "code",
   "execution_count": 26,
   "metadata": {},
   "outputs": [
    {
     "name": "stdout",
     "output_type": "stream",
     "text": [
      "[[ 2.057  0.654]\n",
      " [-5.236  2.616]]\n"
     ]
    }
   ],
   "source": [
    "\n",
    "\n",
    "# 假设我们有一个二分类的数据集，其中 X 是输入，y 是标签\n",
    "Q = np.array([[1.1, 0.6], [-2.8, 2.4]])\n",
    "y = np.array([1.87,1.09])\n",
    "Z = y*Q\n",
    "print (Z)\n",
    "\n",
    "\n"
   ]
  },
  {
   "cell_type": "code",
   "execution_count": 35,
   "metadata": {},
   "outputs": [
    {
     "name": "stdout",
     "output_type": "stream",
     "text": [
      "[[2 3]\n",
      " [4 5]\n",
      " [3 5]]\n",
      "[[1 2 3]\n",
      " [4 5 6]]\n"
     ]
    },
    {
     "ename": "ValueError",
     "evalue": "operands could not be broadcast together with shapes (3,2) (2,3) ",
     "output_type": "error",
     "traceback": [
      "\u001b[1;31m---------------------------------------------------------------------------\u001b[0m",
      "\u001b[1;31mValueError\u001b[0m                                Traceback (most recent call last)",
      "\u001b[1;32m~\\AppData\\Local\\Temp\\ipykernel_5368\\3656086149.py\u001b[0m in \u001b[0;36m<module>\u001b[1;34m\u001b[0m\n\u001b[0;32m     12\u001b[0m \u001b[1;33m\u001b[0m\u001b[0m\n\u001b[0;32m     13\u001b[0m \u001b[1;31m# 计算两个矩阵的和\u001b[0m\u001b[1;33m\u001b[0m\u001b[1;33m\u001b[0m\u001b[1;33m\u001b[0m\u001b[0m\n\u001b[1;32m---> 14\u001b[1;33m \u001b[0mresult\u001b[0m \u001b[1;33m=\u001b[0m \u001b[0mmatrix1\u001b[0m \u001b[1;33m*\u001b[0m \u001b[0mmatrix2\u001b[0m\u001b[1;33m\u001b[0m\u001b[1;33m\u001b[0m\u001b[0m\n\u001b[0m\u001b[0;32m     15\u001b[0m \u001b[1;33m\u001b[0m\u001b[0m\n\u001b[0;32m     16\u001b[0m \u001b[1;31m# 打印结果\u001b[0m\u001b[1;33m\u001b[0m\u001b[1;33m\u001b[0m\u001b[1;33m\u001b[0m\u001b[0m\n",
      "\u001b[1;31mValueError\u001b[0m: operands could not be broadcast together with shapes (3,2) (2,3) "
     ]
    }
   ],
   "source": [
    "import numpy as np\n",
    "\n",
    "# 创建一个 1x2 的矩阵\n",
    "matrix1 = np.array([[2, 3],[4,5],[3,5]])\n",
    "\n",
    "# 创建一个 2x2 的矩阵\n",
    "matrix2 = np.array([[1,2,3], [4,5,6]])\n",
    "\n",
    "print (matrix1)\n",
    "print (matrix2)\n",
    "\n",
    "\n",
    "# 计算两个矩阵的和\n",
    "result = matrix1 * matrix2\n",
    "\n",
    "# 打印结果\n",
    "print(result)"
   ]
  },
  {
   "cell_type": "code",
   "execution_count": 46,
   "metadata": {},
   "outputs": [
    {
     "name": "stdout",
     "output_type": "stream",
     "text": [
      "[1 2]\n",
      "[[3 4]\n",
      " [5 6]]\n",
      "[[ 3  8]\n",
      " [ 5 12]]\n"
     ]
    }
   ],
   "source": [
    "import numpy as np\n",
    "\n",
    "# 创建一个 1x2 的矩阵\n",
    "matrix1 = np.array([1, 2])\n",
    "\n",
    "# 创建一个 2x2 的矩阵\n",
    "matrix2 = np.array([[3, 4], [5, 6]])\n",
    "\n",
    "print (matrix1)\n",
    "print (matrix2)\n",
    "# 计算两个矩阵的和\n",
    "result = matrix1 * matrix2\n",
    "\n",
    "# 打印结果\n",
    "print(result)"
   ]
  },
  {
   "cell_type": "code",
   "execution_count": 59,
   "metadata": {},
   "outputs": [
    {
     "name": "stdout",
     "output_type": "stream",
     "text": [
      "[0.3, 0.33, 0.37]\n",
      "[0.09, 0.24, 0.67]\n",
      "[0.0, 0.0, 1.0]\n",
      "[0.0, 0.0, 1.0]\n",
      "[0.0, 1.0]\n"
     ]
    }
   ],
   "source": [
    "import numpy as np\n",
    "def softmax(x):\n",
    "    exp_x = np.exp(x)\n",
    "    sum_exp_x = np.sum(exp_x)\n",
    "    y = [round(i/sum_exp_x,2) for i in exp_x]\n",
    "    return y\n",
    "\n",
    "a0=[0.1,0.2,0.3]\n",
    "print(softmax(a0))\n",
    "a1=[1,2,3]\n",
    "print(softmax(a1))\n",
    "a2=[10,20,30]\n",
    "print(softmax(a2))\n",
    "a3=[100,200,300]\n",
    "print(softmax(a3))\n",
    "a4=[100,200,]\n",
    "print(softmax(a4))\n",
    "\n",
    "\n",
    "\n"
   ]
  }
 ],
 "metadata": {
  "kernelspec": {
   "display_name": "py37tf24",
   "language": "python",
   "name": "python3"
  },
  "language_info": {
   "codemirror_mode": {
    "name": "ipython",
    "version": 3
   },
   "file_extension": ".py",
   "mimetype": "text/x-python",
   "name": "python",
   "nbconvert_exporter": "python",
   "pygments_lexer": "ipython3",
   "version": "3.7.12"
  },
  "orig_nbformat": 4
 },
 "nbformat": 4,
 "nbformat_minor": 2
}
